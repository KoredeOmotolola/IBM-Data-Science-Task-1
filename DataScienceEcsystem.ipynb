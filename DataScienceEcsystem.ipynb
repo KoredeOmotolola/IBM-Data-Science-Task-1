{
 "cells": [
  {
   "cell_type": "markdown",
   "metadata": {},
   "source": [
    "<center>\n",
    "    <img src=\"https://cf-courses-data.s3.us.cloud-object-storage.appdomain.cloud/IBMDeveloperSkillsNetwork-DS0105EN-SkillsNetwork/labs/Module2/images/SN_web_lightmode.png\" width=\"300\" alt=\"cognitiveclass.ai logo\">\n",
    "</center>\n"
   ]
  },
  {
   "cell_type": "markdown",
   "metadata": {},
   "source": [
    "# Data Science Tools and Ecosystem"
   ]
  },
  {
   "cell_type": "markdown",
   "metadata": {},
   "source": [
    "## In this notebook, Data Science tools and ecosystem are summarized "
   ]
  },
  {
   "cell_type": "markdown",
   "metadata": {},
   "source": [
    "Some languages used for Data science are as listed:\n",
    "- R\n",
    "- Python\n",
    "- Julia\n",
    "- Java\n"
   ]
  },
  {
   "cell_type": "markdown",
   "metadata": {},
   "source": [
    "Some libraries used for Data science are as listed:\n",
    "- Matplotlib\n",
    "- ggplot2\n",
    "- Scikitlearn\n",
    "- Numpy"
   ]
  },
  {
   "cell_type": "markdown",
   "metadata": {},
   "source": [
    "Some tools used for Data science are as listed:\n",
    "- JupyterNotebook\n",
    "- JupyterLab\n",
    "- Hadoop\n",
    "- ApacheSpark"
   ]
  },
  {
   "cell_type": "markdown",
   "metadata": {},
   "source": [
    "The arithmetic expressions used in Python include:\n",
    "+ : add (plus).\n",
    "- : subtract (minus).\n",
    "x : multiply.\n",
    "/ : divide.\n",
    "** : power.\n",
    "% : modulo.\n",
    "<< : left shift.\n",
    ">> : right shift.\n",
    "& : bit-wise AND.\n",
    "| : bit-wise OR.\n",
    "^ : bit-wise XOR.\n",
    "~ : bit-wise invert.\n",
    "< : less than.\n",
    "> : greater than.\n",
    "<= : less than or equal to.\n",
    ">= : greater than or equal to.\n",
    "== : equal to.\n",
    "!= : not equal to.\n",
    "and : boolean AND.\n",
    "or : boolean OR.\n",
    "not : boolean NOT."
   ]
  },
  {
   "cell_type": "code",
   "execution_count": 3,
   "metadata": {
    "tags": []
   },
   "outputs": [
    {
     "name": "stdout",
     "output_type": "stream",
     "text": [
      "15\n",
      "56\n"
     ]
    }
   ],
   "source": [
    "# Add two numbers\n",
    "print (7+8)\n",
    "# Multiply two numbers\n",
    "print (7*8)"
   ]
  },
  {
   "cell_type": "code",
   "execution_count": 10,
   "metadata": {
    "tags": []
   },
   "outputs": [
    {
     "name": "stdout",
     "output_type": "stream",
     "text": [
      "200 minutes is 3.3333333333333335 hours\n"
     ]
    }
   ],
   "source": [
    "# Convert minutes to hours\n",
    "x = 200/60\n",
    "y = str(x)\n",
    "print ('200 minutes is ' + y + ' hours')"
   ]
  },
  {
   "cell_type": "markdown",
   "metadata": {},
   "source": [
    "Author:\n",
    "    \n",
    "Korede Omotolola."
   ]
  },
  {
   "cell_type": "markdown",
   "metadata": {},
   "source": [
    "\n"
   ]
  }
 ],
 "metadata": {
  "kernelspec": {
   "display_name": "Python",
   "language": "python",
   "name": "conda-env-python-py"
  },
  "language_info": {
   "codemirror_mode": {
    "name": "ipython",
    "version": 3
   },
   "file_extension": ".py",
   "mimetype": "text/x-python",
   "name": "python",
   "nbconvert_exporter": "python",
   "pygments_lexer": "ipython3",
   "version": "3.7.12"
  }
 },
 "nbformat": 4,
 "nbformat_minor": 4
}
